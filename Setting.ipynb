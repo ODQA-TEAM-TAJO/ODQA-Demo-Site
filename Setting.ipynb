{
 "cells": [
  {
   "cell_type": "code",
   "execution_count": null,
   "id": "7944f2bf",
   "metadata": {
    "scrolled": true
   },
   "outputs": [],
   "source": [
    "!git clone https://github.com/skaurl/ODQA-Demo-Site.git"
   ]
  },
  {
   "cell_type": "code",
   "execution_count": null,
   "id": "7e58ec02",
   "metadata": {
    "scrolled": true
   },
   "outputs": [],
   "source": [
    "!pip install chatterbot\n",
    "!pip install datasets\n",
    "!pip install elasticsearch\n",
    "!pip install fairseq\n",
    "!pip install flask\n",
    "!pip install konlpy\n",
    "!pip install python-mecab-ko\n",
    "!pip install wikiextractor"
   ]
  },
  {
   "cell_type": "code",
   "execution_count": null,
   "id": "c11b7113",
   "metadata": {},
   "outputs": [],
   "source": [
    "!git clone https://github.com/attardi/wikiextractor.git"
   ]
  },
  {
   "cell_type": "code",
   "execution_count": null,
   "id": "f3fa83e1",
   "metadata": {},
   "outputs": [],
   "source": [
    "!wget https://artifacts.elastic.co/downloads/elasticsearch/elasticsearch-7.0.0-linux-x86_64.tar.gz -q\n",
    "!tar -xzf elasticsearch-7.0.0-linux-x86_64.tar.gz\n",
    "!chown -R daemon:daemon elasticsearch-7.0.0"
   ]
  },
  {
   "cell_type": "code",
   "execution_count": null,
   "id": "5f7e6ab6",
   "metadata": {},
   "outputs": [],
   "source": [
    "!git clone https://github.com/SOMJANG/Mecab-ko-for-Google-Colab.git"
   ]
  },
  {
   "cell_type": "code",
   "execution_count": null,
   "id": "a67d4e55",
   "metadata": {},
   "outputs": [],
   "source": [
    "cd Mecab-ko-for-Google-Colab"
   ]
  },
  {
   "cell_type": "code",
   "execution_count": null,
   "id": "7b076eed",
   "metadata": {},
   "outputs": [],
   "source": [
    "!bash install_mecab-ko_on_colab190912.sh"
   ]
  },
  {
   "cell_type": "code",
   "execution_count": null,
   "id": "fb261dd5",
   "metadata": {},
   "outputs": [],
   "source": [
    "cd /home/dr_lunars"
   ]
  },
  {
   "cell_type": "code",
   "execution_count": null,
   "id": "41ede670",
   "metadata": {
    "scrolled": true
   },
   "outputs": [],
   "source": [
    "!pip install nltk\n",
    "!pip install spacy==2.3.5\n",
    "!pip install https://github.com/explosion/spacy-models/releases/download/en_core_web_sm-2.3.1/en_core_web_sm-2.3.1.tar.gz\n",
    "!pip install pyresparser"
   ]
  },
  {
   "cell_type": "code",
   "execution_count": null,
   "id": "2d3acf46",
   "metadata": {},
   "outputs": [],
   "source": [
    "!python -m spacy download en"
   ]
  },
  {
   "cell_type": "code",
   "execution_count": null,
   "id": "cd4dc97b",
   "metadata": {},
   "outputs": [],
   "source": [
    "!git clone https://github.com/ssut/py-hanspell.git"
   ]
  },
  {
   "cell_type": "code",
   "execution_count": null,
   "id": "001ba8be",
   "metadata": {},
   "outputs": [],
   "source": [
    "cd py-hanspell"
   ]
  },
  {
   "cell_type": "code",
   "execution_count": null,
   "id": "dc86e806",
   "metadata": {},
   "outputs": [],
   "source": [
    "!python setup.py install --user"
   ]
  },
  {
   "cell_type": "code",
   "execution_count": null,
   "id": "b8d30c18",
   "metadata": {},
   "outputs": [],
   "source": [
    "!pip install grpcio-tools==1.34.1 &> /dev/null\n",
    "!pip install git+https://github.com/deepset-ai/haystack.git &> /dev/null"
   ]
  },
  {
   "cell_type": "code",
   "execution_count": null,
   "id": "7f1c11fe",
   "metadata": {},
   "outputs": [],
   "source": []
  }
 ],
 "metadata": {
  "kernelspec": {
   "display_name": "Python 3",
   "language": "python",
   "name": "python3"
  },
  "language_info": {
   "codemirror_mode": {
    "name": "ipython",
    "version": 3
   },
   "file_extension": ".py",
   "mimetype": "text/x-python",
   "name": "python",
   "nbconvert_exporter": "python",
   "pygments_lexer": "ipython3",
   "version": "3.7.10"
  }
 },
 "nbformat": 4,
 "nbformat_minor": 5
}